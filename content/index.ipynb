{
 "cells": [
  {
   "cell_type": "markdown",
   "metadata": {},
   "source": [
    "# Welcome\n",
    "\n",
    "The UK Web Archive (UKWA) collects millions of websites each year, preserving them for future generations. You can find out more on our official website: https://www.webarchive.org.uk/\n",
    "\n",
    "Here, we share detailed technical information about how the UK Web Archive works. We do this because:\n",
    "\n",
    "- We hope it will help our own staff get up to speed.\n",
    "- We hope it will help others understand what we do.\n",
    "- We hope it will be helpful for anyone trying to set up or run a web archive.\n"
   ]
  },
  {
   "cell_type": "code",
   "execution_count": null,
   "metadata": {},
   "outputs": [],
   "source": []
  }
 ],
 "metadata": {
  "kernelspec": {
   "display_name": "Python 3",
   "language": "python",
   "name": "python3"
  },
  "language_info": {
   "codemirror_mode": {
    "name": "ipython",
    "version": 3
   },
   "file_extension": ".py",
   "mimetype": "text/x-python",
   "name": "python",
   "nbconvert_exporter": "python",
   "pygments_lexer": "ipython3",
   "version": "3.7.9"
  }
 },
 "nbformat": 4,
 "nbformat_minor": 4
}
